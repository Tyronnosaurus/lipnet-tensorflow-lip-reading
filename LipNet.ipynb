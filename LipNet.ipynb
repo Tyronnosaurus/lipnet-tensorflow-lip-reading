{
 "cells": [
  {
   "cell_type": "markdown",
   "id": "a3573a47-3689-4668-b62f-5c8451b2b4e9",
   "metadata": {
    "tags": []
   },
   "source": [
    "# 0. Install and Import Dependencies"
   ]
  },
  {
   "cell_type": "code",
   "execution_count": 1,
   "id": "ddfbccbe-41ae-4c23-98b1-a13868e2b499",
   "metadata": {
    "scrolled": true,
    "tags": []
   },
   "outputs": [
    {
     "name": "stdout",
     "output_type": "stream",
     "text": [
      "Package                      Version\n",
      "---------------------------- ---------\n",
      "absl-py                      1.4.0\n",
      "asttokens                    2.2.1\n",
      "astunparse                   1.6.3\n",
      "backcall                     0.2.0\n",
      "beautifulsoup4               4.12.0\n",
      "cachetools                   5.3.0\n",
      "certifi                      2022.12.7\n",
      "charset-normalizer           3.1.0\n",
      "colorama                     0.4.6\n",
      "comm                         0.1.3\n",
      "contourpy                    1.0.7\n",
      "cycler                       0.11.0\n",
      "debugpy                      1.6.6\n",
      "decorator                    5.1.1\n",
      "executing                    1.2.0\n",
      "filelock                     3.10.7\n",
      "flatbuffers                  23.3.3\n",
      "fonttools                    4.39.3\n",
      "gast                         0.4.0\n",
      "gdown                        4.7.1\n",
      "google-auth                  2.17.1\n",
      "google-auth-oauthlib         1.0.0\n",
      "google-pasta                 0.2.0\n",
      "grpcio                       1.53.0\n",
      "h5py                         3.8.0\n",
      "idna                         3.4\n",
      "imageio                      2.27.0\n",
      "importlib-metadata           6.1.0\n",
      "importlib-resources          5.12.0\n",
      "ipykernel                    6.22.0\n",
      "ipython                      8.12.0\n",
      "jax                          0.4.8\n",
      "jedi                         0.18.2\n",
      "jupyter_client               8.1.0\n",
      "jupyter_core                 5.3.0\n",
      "keras                        2.12.0\n",
      "kiwisolver                   1.4.4\n",
      "libclang                     16.0.0\n",
      "Markdown                     3.4.3\n",
      "MarkupSafe                   2.1.2\n",
      "matplotlib                   3.7.1\n",
      "matplotlib-inline            0.1.6\n",
      "ml-dtypes                    0.0.4\n",
      "nest-asyncio                 1.5.6\n",
      "numpy                        1.23.5\n",
      "oauthlib                     3.2.2\n",
      "opencv-python                4.7.0.72\n",
      "opt-einsum                   3.3.0\n",
      "packaging                    23.0\n",
      "parso                        0.8.3\n",
      "pickleshare                  0.7.5\n",
      "Pillow                       9.5.0\n",
      "pip                          23.0.1\n",
      "platformdirs                 3.2.0\n",
      "prompt-toolkit               3.0.38\n",
      "protobuf                     4.22.1\n",
      "psutil                       5.9.4\n",
      "pure-eval                    0.2.2\n",
      "pyasn1                       0.4.8\n",
      "pyasn1-modules               0.2.8\n",
      "Pygments                     2.14.0\n",
      "pyparsing                    3.0.9\n",
      "PySocks                      1.7.1\n",
      "python-dateutil              2.8.2\n",
      "pywin32                      306\n",
      "pyzmq                        25.0.2\n",
      "requests                     2.28.2\n",
      "requests-oauthlib            1.3.1\n",
      "rsa                          4.9\n",
      "scipy                        1.10.1\n",
      "setuptools                   67.4.0\n",
      "six                          1.16.0\n",
      "soupsieve                    2.4\n",
      "stack-data                   0.6.2\n",
      "tensorboard                  2.12.1\n",
      "tensorboard-data-server      0.7.0\n",
      "tensorboard-plugin-wit       1.8.1\n",
      "tensorflow                   2.12.0\n",
      "tensorflow-estimator         2.12.0\n",
      "tensorflow-intel             2.12.0\n",
      "tensorflow-io-gcs-filesystem 0.31.0\n",
      "termcolor                    2.2.0\n",
      "tornado                      6.2\n",
      "tqdm                         4.65.0\n",
      "traitlets                    5.9.0\n",
      "typing_extensions            4.5.0\n",
      "urllib3                      1.26.15\n",
      "wcwidth                      0.2.6\n",
      "Werkzeug                     2.2.3\n",
      "wheel                        0.38.4\n",
      "wrapt                        1.14.1\n",
      "zipp                         3.15.0\n"
     ]
    }
   ],
   "source": [
    "!pip list"
   ]
  },
  {
   "cell_type": "code",
   "execution_count": 2,
   "id": "02f907ea-f669-46c7-adcf-7f257e663448",
   "metadata": {
    "tags": []
   },
   "outputs": [
    {
     "name": "stdout",
     "output_type": "stream",
     "text": [
      "Requirement already satisfied: opencv-python in c:\\users\\eduard\\desktop\\lipnet\\venv\\lib\\site-packages (4.7.0.72)\n",
      "Requirement already satisfied: matplotlib in c:\\users\\eduard\\desktop\\lipnet\\venv\\lib\\site-packages (3.7.1)\n",
      "Requirement already satisfied: imageio in c:\\users\\eduard\\desktop\\lipnet\\venv\\lib\\site-packages (2.27.0)\n",
      "Requirement already satisfied: gdown in c:\\users\\eduard\\desktop\\lipnet\\venv\\lib\\site-packages (4.7.1)\n",
      "Requirement already satisfied: numpy>=1.17.3 in c:\\users\\eduard\\desktop\\lipnet\\venv\\lib\\site-packages (from opencv-python) (1.23.5)\n",
      "Requirement already satisfied: fonttools>=4.22.0 in c:\\users\\eduard\\desktop\\lipnet\\venv\\lib\\site-packages (from matplotlib) (4.39.3)\n",
      "Requirement already satisfied: packaging>=20.0 in c:\\users\\eduard\\desktop\\lipnet\\venv\\lib\\site-packages (from matplotlib) (23.0)\n",
      "Requirement already satisfied: python-dateutil>=2.7 in c:\\users\\eduard\\desktop\\lipnet\\venv\\lib\\site-packages (from matplotlib) (2.8.2)\n",
      "Requirement already satisfied: kiwisolver>=1.0.1 in c:\\users\\eduard\\desktop\\lipnet\\venv\\lib\\site-packages (from matplotlib) (1.4.4)\n",
      "Requirement already satisfied: pyparsing>=2.3.1 in c:\\users\\eduard\\desktop\\lipnet\\venv\\lib\\site-packages (from matplotlib) (3.0.9)\n",
      "Requirement already satisfied: cycler>=0.10 in c:\\users\\eduard\\desktop\\lipnet\\venv\\lib\\site-packages (from matplotlib) (0.11.0)\n",
      "Requirement already satisfied: pillow>=6.2.0 in c:\\users\\eduard\\desktop\\lipnet\\venv\\lib\\site-packages (from matplotlib) (9.5.0)\n",
      "Requirement already satisfied: contourpy>=1.0.1 in c:\\users\\eduard\\desktop\\lipnet\\venv\\lib\\site-packages (from matplotlib) (1.0.7)\n",
      "Requirement already satisfied: importlib-resources>=3.2.0 in c:\\users\\eduard\\desktop\\lipnet\\venv\\lib\\site-packages (from matplotlib) (5.12.0)\n",
      "Requirement already satisfied: six in c:\\users\\eduard\\desktop\\lipnet\\venv\\lib\\site-packages (from gdown) (1.16.0)\n",
      "Requirement already satisfied: requests[socks] in c:\\users\\eduard\\desktop\\lipnet\\venv\\lib\\site-packages (from gdown) (2.28.2)\n",
      "Requirement already satisfied: beautifulsoup4 in c:\\users\\eduard\\desktop\\lipnet\\venv\\lib\\site-packages (from gdown) (4.12.0)\n",
      "Requirement already satisfied: tqdm in c:\\users\\eduard\\desktop\\lipnet\\venv\\lib\\site-packages (from gdown) (4.65.0)\n",
      "Requirement already satisfied: filelock in c:\\users\\eduard\\desktop\\lipnet\\venv\\lib\\site-packages (from gdown) (3.10.7)\n",
      "Requirement already satisfied: zipp>=3.1.0 in c:\\users\\eduard\\desktop\\lipnet\\venv\\lib\\site-packages (from importlib-resources>=3.2.0->matplotlib) (3.15.0)\n",
      "Requirement already satisfied: soupsieve>1.2 in c:\\users\\eduard\\desktop\\lipnet\\venv\\lib\\site-packages (from beautifulsoup4->gdown) (2.4)\n",
      "Requirement already satisfied: certifi>=2017.4.17 in c:\\users\\eduard\\desktop\\lipnet\\venv\\lib\\site-packages (from requests[socks]->gdown) (2022.12.7)\n",
      "Requirement already satisfied: charset-normalizer<4,>=2 in c:\\users\\eduard\\desktop\\lipnet\\venv\\lib\\site-packages (from requests[socks]->gdown) (3.1.0)\n",
      "Requirement already satisfied: idna<4,>=2.5 in c:\\users\\eduard\\desktop\\lipnet\\venv\\lib\\site-packages (from requests[socks]->gdown) (3.4)\n",
      "Requirement already satisfied: urllib3<1.27,>=1.21.1 in c:\\users\\eduard\\desktop\\lipnet\\venv\\lib\\site-packages (from requests[socks]->gdown) (1.26.15)\n",
      "Requirement already satisfied: PySocks!=1.5.7,>=1.5.6 in c:\\users\\eduard\\desktop\\lipnet\\venv\\lib\\site-packages (from requests[socks]->gdown) (1.7.1)\n",
      "Requirement already satisfied: colorama in c:\\users\\eduard\\desktop\\lipnet\\venv\\lib\\site-packages (from tqdm->gdown) (0.4.6)\n"
     ]
    }
   ],
   "source": [
    "!pip install opencv-python matplotlib imageio gdown"
   ]
  },
  {
   "cell_type": "code",
   "execution_count": 3,
   "id": "a9446186",
   "metadata": {},
   "outputs": [
    {
     "name": "stdout",
     "output_type": "stream",
     "text": [
      "Requirement already satisfied: tensorflow in c:\\users\\eduard\\desktop\\lipnet\\venv\\lib\\site-packages (2.12.0)\n",
      "Requirement already satisfied: tensorflow-intel==2.12.0 in c:\\users\\eduard\\desktop\\lipnet\\venv\\lib\\site-packages (from tensorflow) (2.12.0)\n",
      "Requirement already satisfied: setuptools in c:\\users\\eduard\\desktop\\lipnet\\venv\\lib\\site-packages (from tensorflow-intel==2.12.0->tensorflow) (67.4.0)\n",
      "Requirement already satisfied: gast<=0.4.0,>=0.2.1 in c:\\users\\eduard\\desktop\\lipnet\\venv\\lib\\site-packages (from tensorflow-intel==2.12.0->tensorflow) (0.4.0)\n",
      "Requirement already satisfied: google-pasta>=0.1.1 in c:\\users\\eduard\\desktop\\lipnet\\venv\\lib\\site-packages (from tensorflow-intel==2.12.0->tensorflow) (0.2.0)\n",
      "Requirement already satisfied: six>=1.12.0 in c:\\users\\eduard\\desktop\\lipnet\\venv\\lib\\site-packages (from tensorflow-intel==2.12.0->tensorflow) (1.16.0)\n",
      "Requirement already satisfied: wrapt<1.15,>=1.11.0 in c:\\users\\eduard\\desktop\\lipnet\\venv\\lib\\site-packages (from tensorflow-intel==2.12.0->tensorflow) (1.14.1)\n",
      "Requirement already satisfied: protobuf!=4.21.0,!=4.21.1,!=4.21.2,!=4.21.3,!=4.21.4,!=4.21.5,<5.0.0dev,>=3.20.3 in c:\\users\\eduard\\desktop\\lipnet\\venv\\lib\\site-packages (from tensorflow-intel==2.12.0->tensorflow) (4.22.1)\n",
      "Requirement already satisfied: packaging in c:\\users\\eduard\\desktop\\lipnet\\venv\\lib\\site-packages (from tensorflow-intel==2.12.0->tensorflow) (23.0)\n",
      "Requirement already satisfied: h5py>=2.9.0 in c:\\users\\eduard\\desktop\\lipnet\\venv\\lib\\site-packages (from tensorflow-intel==2.12.0->tensorflow) (3.8.0)\n",
      "Requirement already satisfied: libclang>=13.0.0 in c:\\users\\eduard\\desktop\\lipnet\\venv\\lib\\site-packages (from tensorflow-intel==2.12.0->tensorflow) (16.0.0)\n",
      "Requirement already satisfied: grpcio<2.0,>=1.24.3 in c:\\users\\eduard\\desktop\\lipnet\\venv\\lib\\site-packages (from tensorflow-intel==2.12.0->tensorflow) (1.53.0)\n",
      "Requirement already satisfied: absl-py>=1.0.0 in c:\\users\\eduard\\desktop\\lipnet\\venv\\lib\\site-packages (from tensorflow-intel==2.12.0->tensorflow) (1.4.0)\n",
      "Requirement already satisfied: keras<2.13,>=2.12.0 in c:\\users\\eduard\\desktop\\lipnet\\venv\\lib\\site-packages (from tensorflow-intel==2.12.0->tensorflow) (2.12.0)\n",
      "Requirement already satisfied: tensorflow-io-gcs-filesystem>=0.23.1 in c:\\users\\eduard\\desktop\\lipnet\\venv\\lib\\site-packages (from tensorflow-intel==2.12.0->tensorflow) (0.31.0)\n",
      "Requirement already satisfied: opt-einsum>=2.3.2 in c:\\users\\eduard\\desktop\\lipnet\\venv\\lib\\site-packages (from tensorflow-intel==2.12.0->tensorflow) (3.3.0)\n",
      "Requirement already satisfied: tensorboard<2.13,>=2.12 in c:\\users\\eduard\\desktop\\lipnet\\venv\\lib\\site-packages (from tensorflow-intel==2.12.0->tensorflow) (2.12.1)\n",
      "Requirement already satisfied: astunparse>=1.6.0 in c:\\users\\eduard\\desktop\\lipnet\\venv\\lib\\site-packages (from tensorflow-intel==2.12.0->tensorflow) (1.6.3)\n",
      "Requirement already satisfied: typing-extensions>=3.6.6 in c:\\users\\eduard\\desktop\\lipnet\\venv\\lib\\site-packages (from tensorflow-intel==2.12.0->tensorflow) (4.5.0)\n",
      "Requirement already satisfied: jax>=0.3.15 in c:\\users\\eduard\\desktop\\lipnet\\venv\\lib\\site-packages (from tensorflow-intel==2.12.0->tensorflow) (0.4.8)\n",
      "Requirement already satisfied: flatbuffers>=2.0 in c:\\users\\eduard\\desktop\\lipnet\\venv\\lib\\site-packages (from tensorflow-intel==2.12.0->tensorflow) (23.3.3)\n",
      "Requirement already satisfied: tensorflow-estimator<2.13,>=2.12.0 in c:\\users\\eduard\\desktop\\lipnet\\venv\\lib\\site-packages (from tensorflow-intel==2.12.0->tensorflow) (2.12.0)\n",
      "Requirement already satisfied: numpy<1.24,>=1.22 in c:\\users\\eduard\\desktop\\lipnet\\venv\\lib\\site-packages (from tensorflow-intel==2.12.0->tensorflow) (1.23.5)\n",
      "Requirement already satisfied: termcolor>=1.1.0 in c:\\users\\eduard\\desktop\\lipnet\\venv\\lib\\site-packages (from tensorflow-intel==2.12.0->tensorflow) (2.2.0)\n",
      "Requirement already satisfied: wheel<1.0,>=0.23.0 in c:\\users\\eduard\\desktop\\lipnet\\venv\\lib\\site-packages (from astunparse>=1.6.0->tensorflow-intel==2.12.0->tensorflow) (0.38.4)\n",
      "Requirement already satisfied: ml-dtypes>=0.0.3 in c:\\users\\eduard\\desktop\\lipnet\\venv\\lib\\site-packages (from jax>=0.3.15->tensorflow-intel==2.12.0->tensorflow) (0.0.4)\n",
      "Requirement already satisfied: scipy>=1.7 in c:\\users\\eduard\\desktop\\lipnet\\venv\\lib\\site-packages (from jax>=0.3.15->tensorflow-intel==2.12.0->tensorflow) (1.10.1)\n",
      "Requirement already satisfied: tensorboard-plugin-wit>=1.6.0 in c:\\users\\eduard\\desktop\\lipnet\\venv\\lib\\site-packages (from tensorboard<2.13,>=2.12->tensorflow-intel==2.12.0->tensorflow) (1.8.1)\n",
      "Requirement already satisfied: google-auth<3,>=1.6.3 in c:\\users\\eduard\\desktop\\lipnet\\venv\\lib\\site-packages (from tensorboard<2.13,>=2.12->tensorflow-intel==2.12.0->tensorflow) (2.17.1)\n",
      "Requirement already satisfied: werkzeug>=1.0.1 in c:\\users\\eduard\\desktop\\lipnet\\venv\\lib\\site-packages (from tensorboard<2.13,>=2.12->tensorflow-intel==2.12.0->tensorflow) (2.2.3)\n",
      "Requirement already satisfied: markdown>=2.6.8 in c:\\users\\eduard\\desktop\\lipnet\\venv\\lib\\site-packages (from tensorboard<2.13,>=2.12->tensorflow-intel==2.12.0->tensorflow) (3.4.3)\n",
      "Requirement already satisfied: requests<3,>=2.21.0 in c:\\users\\eduard\\desktop\\lipnet\\venv\\lib\\site-packages (from tensorboard<2.13,>=2.12->tensorflow-intel==2.12.0->tensorflow) (2.28.2)\n",
      "Requirement already satisfied: tensorboard-data-server<0.8.0,>=0.7.0 in c:\\users\\eduard\\desktop\\lipnet\\venv\\lib\\site-packages (from tensorboard<2.13,>=2.12->tensorflow-intel==2.12.0->tensorflow) (0.7.0)\n",
      "Requirement already satisfied: google-auth-oauthlib<1.1,>=0.5 in c:\\users\\eduard\\desktop\\lipnet\\venv\\lib\\site-packages (from tensorboard<2.13,>=2.12->tensorflow-intel==2.12.0->tensorflow) (1.0.0)\n",
      "Requirement already satisfied: pyasn1-modules>=0.2.1 in c:\\users\\eduard\\desktop\\lipnet\\venv\\lib\\site-packages (from google-auth<3,>=1.6.3->tensorboard<2.13,>=2.12->tensorflow-intel==2.12.0->tensorflow) (0.2.8)\n",
      "Requirement already satisfied: rsa<5,>=3.1.4 in c:\\users\\eduard\\desktop\\lipnet\\venv\\lib\\site-packages (from google-auth<3,>=1.6.3->tensorboard<2.13,>=2.12->tensorflow-intel==2.12.0->tensorflow) (4.9)\n",
      "Requirement already satisfied: cachetools<6.0,>=2.0.0 in c:\\users\\eduard\\desktop\\lipnet\\venv\\lib\\site-packages (from google-auth<3,>=1.6.3->tensorboard<2.13,>=2.12->tensorflow-intel==2.12.0->tensorflow) (5.3.0)\n",
      "Requirement already satisfied: requests-oauthlib>=0.7.0 in c:\\users\\eduard\\desktop\\lipnet\\venv\\lib\\site-packages (from google-auth-oauthlib<1.1,>=0.5->tensorboard<2.13,>=2.12->tensorflow-intel==2.12.0->tensorflow) (1.3.1)\n",
      "Requirement already satisfied: importlib-metadata>=4.4 in c:\\users\\eduard\\desktop\\lipnet\\venv\\lib\\site-packages (from markdown>=2.6.8->tensorboard<2.13,>=2.12->tensorflow-intel==2.12.0->tensorflow) (6.1.0)\n",
      "Requirement already satisfied: urllib3<1.27,>=1.21.1 in c:\\users\\eduard\\desktop\\lipnet\\venv\\lib\\site-packages (from requests<3,>=2.21.0->tensorboard<2.13,>=2.12->tensorflow-intel==2.12.0->tensorflow) (1.26.15)\n",
      "Requirement already satisfied: certifi>=2017.4.17 in c:\\users\\eduard\\desktop\\lipnet\\venv\\lib\\site-packages (from requests<3,>=2.21.0->tensorboard<2.13,>=2.12->tensorflow-intel==2.12.0->tensorflow) (2022.12.7)\n",
      "Requirement already satisfied: charset-normalizer<4,>=2 in c:\\users\\eduard\\desktop\\lipnet\\venv\\lib\\site-packages (from requests<3,>=2.21.0->tensorboard<2.13,>=2.12->tensorflow-intel==2.12.0->tensorflow) (3.1.0)\n",
      "Requirement already satisfied: idna<4,>=2.5 in c:\\users\\eduard\\desktop\\lipnet\\venv\\lib\\site-packages (from requests<3,>=2.21.0->tensorboard<2.13,>=2.12->tensorflow-intel==2.12.0->tensorflow) (3.4)\n",
      "Requirement already satisfied: MarkupSafe>=2.1.1 in c:\\users\\eduard\\desktop\\lipnet\\venv\\lib\\site-packages (from werkzeug>=1.0.1->tensorboard<2.13,>=2.12->tensorflow-intel==2.12.0->tensorflow) (2.1.2)\n",
      "Requirement already satisfied: zipp>=0.5 in c:\\users\\eduard\\desktop\\lipnet\\venv\\lib\\site-packages (from importlib-metadata>=4.4->markdown>=2.6.8->tensorboard<2.13,>=2.12->tensorflow-intel==2.12.0->tensorflow) (3.15.0)\n",
      "Requirement already satisfied: pyasn1<0.5.0,>=0.4.6 in c:\\users\\eduard\\desktop\\lipnet\\venv\\lib\\site-packages (from pyasn1-modules>=0.2.1->google-auth<3,>=1.6.3->tensorboard<2.13,>=2.12->tensorflow-intel==2.12.0->tensorflow) (0.4.8)\n",
      "Requirement already satisfied: oauthlib>=3.0.0 in c:\\users\\eduard\\desktop\\lipnet\\venv\\lib\\site-packages (from requests-oauthlib>=0.7.0->google-auth-oauthlib<1.1,>=0.5->tensorboard<2.13,>=2.12->tensorflow-intel==2.12.0->tensorflow) (3.2.2)\n"
     ]
    }
   ],
   "source": [
    "!pip install tensorflow"
   ]
  },
  {
   "cell_type": "code",
   "execution_count": 4,
   "id": "b24af50c-20b8-409d-ad78-30a933fdd669",
   "metadata": {
    "tags": []
   },
   "outputs": [],
   "source": [
    "import os\n",
    "import cv2\n",
    "import tensorflow as tf\n",
    "import numpy as np\n",
    "from typing import List\n",
    "from matplotlib import pyplot as plt\n",
    "import imageio\n",
    "import winsound"
   ]
  },
  {
   "cell_type": "code",
   "execution_count": 5,
   "id": "378d045a-3003-4f93-b7d2-a25a97774a68",
   "metadata": {
    "tags": []
   },
   "outputs": [
    {
     "name": "stdout",
     "output_type": "stream",
     "text": [
      "GPUs: []\n"
     ]
    }
   ],
   "source": [
    "# Check if we have a GPU available and, if so, prevent exponential memory growth on it so that we don't get 'Out of memory' errors\n",
    "physical_devices = tf.config.list_physical_devices('GPU')\n",
    "print(\"GPUs:\", physical_devices)\n",
    "\n",
    "try:\n",
    "    tf.config.experimental.set_memory_growth(physical_devices[0], True)\n",
    "except:\n",
    "    pass"
   ]
  },
  {
   "cell_type": "markdown",
   "id": "7a19e88e-c7b9-45c1-ae1e-f2109329c71b",
   "metadata": {
    "tags": []
   },
   "source": [
    "# 1. Build Data Loading Functions"
   ]
  },
  {
   "cell_type": "code",
   "execution_count": 6,
   "id": "c019e4c6-2af3-4160-99ea-5c8cb009f1a7",
   "metadata": {
    "tags": []
   },
   "outputs": [],
   "source": [
    "if (not os.path.exists(\"data\")):\n",
    "    \n",
    "    import gdown # Library to download data from Google Drive\n",
    "    \n",
    "    url = 'https://drive.google.com/uc?id=1YlvpDLix3S-U8fd-gqRwPcWXAXm8JwjL'\n",
    "    filename = 'data.zip'\n",
    "    gdown.download(url, filename, quiet=False)\n",
    "    gdown.extractall(filename)\n",
    "    os.remove(filename)"
   ]
  },
  {
   "cell_type": "code",
   "execution_count": 7,
   "id": "8548cc59-6dfc-4acc-abc3-3e65212db02e",
   "metadata": {
    "tags": []
   },
   "outputs": [],
   "source": [
    "def load_video(path:str) -> List[float]:\n",
    "\n",
    "    cap = cv2.VideoCapture(path)    # Load the video\n",
    "    frames = []\n",
    "    \n",
    "    # Loop through the frames and store them in the frames list\n",
    "    for _ in range(int(cap.get(cv2.CAP_PROP_FRAME_COUNT))):\n",
    "        ret, frame = cap.read()\n",
    "        frame = tf.image.rgb_to_grayscale(frame)\n",
    "        \n",
    "         # We only store a rectangular slice of the frame that contains the lips.\n",
    "         # We can do this because the lips are always in the same position.\n",
    "        frames.append(frame[190:236,80:220,:])\n",
    "    cap.release()\n",
    "    \n",
    "    # Standarize frames (so that they have a mean=0 and std=1)\n",
    "    mean = tf.math.reduce_mean(frames)\n",
    "    std = tf.math.reduce_std(tf.cast(frames, tf.float32))\n",
    "    frames_standarized = tf.cast((frames - mean), tf.float32) / std\n",
    "    \n",
    "    return(frames_standarized)"
   ]
  },
  {
   "cell_type": "code",
   "execution_count": 8,
   "id": "ec735e0b-ec98-4eb0-8f49-c35527d6670a",
   "metadata": {
    "tags": []
   },
   "outputs": [],
   "source": [
    "vocab = [x for x in \"abcdefghijklmnopqrstuvwxyz'?!123456789 \"]"
   ]
  },
  {
   "cell_type": "code",
   "execution_count": 9,
   "id": "be04e972-d7a5-4a72-82d8-a6bdde1f3ce6",
   "metadata": {
    "tags": []
   },
   "outputs": [
    {
     "name": "stdout",
     "output_type": "stream",
     "text": [
      "The vocabulary is: ['', 'a', 'b', 'c', 'd', 'e', 'f', 'g', 'h', 'i', 'j', 'k', 'l', 'm', 'n', 'o', 'p', 'q', 'r', 's', 't', 'u', 'v', 'w', 'x', 'y', 'z', \"'\", '?', '!', '1', '2', '3', '4', '5', '6', '7', '8', '9', ' '] (size =40)\n"
     ]
    }
   ],
   "source": [
    "# Create two functions than convert characters to numbers and viceversa (a=1, b=2, z=26, !=29, '1'=30, etc)\n",
    "char_to_num = tf.keras.layers.StringLookup(vocabulary=vocab, oov_token=\"\")\n",
    "\n",
    "num_to_char = tf.keras.layers.StringLookup(vocabulary=char_to_num.get_vocabulary(),\n",
    "                                           oov_token=\"\",  # \"Out of vocabulary\" token\n",
    "                                           invert=True)\n",
    "\n",
    "\n",
    "print(\n",
    "    f\"The vocabulary is: {char_to_num.get_vocabulary()} \"\n",
    "    f\"(size ={char_to_num.vocabulary_size()})\"\n",
    ")"
   ]
  },
  {
   "cell_type": "code",
   "execution_count": 10,
   "id": "797ff78b-b48f-4e14-bb62-8cd0ebf9501a",
   "metadata": {
    "tags": []
   },
   "outputs": [
    {
     "data": {
      "text/plain": [
       "<tf.Tensor: shape=(4,), dtype=int64, numpy=array([14,  9,  3, 11], dtype=int64)>"
      ]
     },
     "execution_count": 10,
     "metadata": {},
     "output_type": "execute_result"
    }
   ],
   "source": [
    "char_to_num(['n','i','c','k'])"
   ]
  },
  {
   "cell_type": "code",
   "execution_count": 11,
   "id": "8cd7f4f4-ae77-4509-a4f4-c723787ebad1",
   "metadata": {},
   "outputs": [
    {
     "data": {
      "text/plain": [
       "<tf.Tensor: shape=(4,), dtype=string, numpy=array([b'n', b'i', b'c', b'k'], dtype=object)>"
      ]
     },
     "execution_count": 11,
     "metadata": {},
     "output_type": "execute_result"
    }
   ],
   "source": [
    "num_to_char([14,  9,  3, 11])"
   ]
  },
  {
   "cell_type": "code",
   "execution_count": 12,
   "id": "9491bab5-6a3c-4f79-879a-8f9fbe73ae2e",
   "metadata": {
    "tags": []
   },
   "outputs": [],
   "source": [
    "def load_alignments(path:str) -> List[str]: \n",
    "    \"\"\" Load and parse file with transcribed text. It contains lines such as:\n",
    "            0 23750 sil\n",
    "            23750 29500 bin\n",
    "            29500 34000 blue\n",
    "            34000 35500 sil\n",
    "    \"\"\"\n",
    "    with open(path, 'r') as f:\n",
    "        lines = f.readlines()\n",
    "    \n",
    "    tokens = []\n",
    "    \n",
    "    for line in lines:\n",
    "        line = line.split()                # Get list of words in the line. Actual word is in position 2\n",
    "        if (line[2] == 'sil'): continue    # Ignore silences\n",
    "        tokens = [*tokens, ' ', line[2]]   # \n",
    "    \n",
    "    # Convert from chars to numbers\n",
    "    charList = tf.strings.unicode_split(tokens, input_encoding='UTF-8')    # [won, ,last] --> [[w,o,n],[ ],[l,a,s,t]]\n",
    "    charListOneArray = tf.reshape( charList , (-1))                        # [[w,o,n],[ ],[l,a,s,t]]  ->>  [w,o,n, ,l,a,s,t]\n",
    "    nums = char_to_num(charListOneArray)                                   # Convert to array of numbers\n",
    "    nums = nums[1:] # Remove first value which is usually a ' ' due to initial silence\n",
    "    \n",
    "    return (nums)"
   ]
  },
  {
   "cell_type": "code",
   "execution_count": 13,
   "id": "dd01ca9f-77fb-4643-a2aa-47dd82c5d66b",
   "metadata": {
    "tags": []
   },
   "outputs": [],
   "source": [
    "def load_data(path: str):\n",
    "    \"\"\" Given the path to a video or alignment file, return video and corresponding alignment data \"\"\"\n",
    "    path = bytes.decode(path.numpy())\n",
    "    \n",
    "    # File name splitting for windows\n",
    "    file_name = path.split('\\\\')[-1].split('.')[0] # Remove path and extension and leave only the filename\n",
    "    #file_name = path.split('/')[-1].split('.')[0]  # Use this on Linux or Mac\n",
    "    video_path     = os.path.join('data', 's1', f'{file_name}.mpg')\n",
    "    alignment_path = os.path.join('data', 'alignments', 's1', f'{file_name}.align')\n",
    "    \n",
    "    frames     = load_video(video_path) \n",
    "    alignments = load_alignments(alignment_path)\n",
    "    \n",
    "    return(frames, alignments)"
   ]
  },
  {
   "cell_type": "code",
   "execution_count": 14,
   "id": "8cb7cc58-31ae-4904-a805-1177a82717d2",
   "metadata": {
    "tags": []
   },
   "outputs": [],
   "source": [
    "test_path = '.\\\\data\\\\s1\\\\bbal6n.mpg'"
   ]
  },
  {
   "cell_type": "code",
   "execution_count": 15,
   "id": "eb602c71-8560-4f9e-b26b-08202febb937",
   "metadata": {
    "scrolled": true,
    "tags": []
   },
   "outputs": [],
   "source": [
    "frames, alignments = load_data(tf.convert_to_tensor(test_path))"
   ]
  },
  {
   "cell_type": "code",
   "execution_count": 16,
   "id": "0e3184a1-6b02-4b4f-84a8-a0a65f951ea2",
   "metadata": {},
   "outputs": [
    {
     "data": {
      "text/plain": [
       "<matplotlib.image.AxesImage at 0x2c03daa6280>"
      ]
     },
     "execution_count": 16,
     "metadata": {},
     "output_type": "execute_result"
    },
    {
     "data": {
      "image/png": "[encoded data removed]",
      "text/plain": [
       "<Figure size 640x480 with 1 Axes>"
      ]
     },
     "metadata": {},
     "output_type": "display_data"
    }
   ],
   "source": [
    "plt.imshow(frames[40])"
   ]
  },
  {
   "cell_type": "code",
   "execution_count": 17,
   "id": "d7ec0833-d54b-4073-84cf-92d011c60ec1",
   "metadata": {},
   "outputs": [
    {
     "data": {
      "text/plain": [
       "<tf.Tensor: shape=(21,), dtype=int64, numpy=\n",
       "array([ 2,  9, 14, 39,  2, 12, 21,  5, 39,  1, 20, 39, 12, 39, 19,  9, 24,\n",
       "       39, 14, 15, 23], dtype=int64)>"
      ]
     },
     "execution_count": 17,
     "metadata": {},
     "output_type": "execute_result"
    }
   ],
   "source": [
    "alignments"
   ]
  },
  {
   "cell_type": "code",
   "execution_count": 18,
   "id": "6871031a-b0ba-4c76-a852-f6329b0f2606",
   "metadata": {
    "tags": []
   },
   "outputs": [],
   "source": [
    "def mappable_function(path:str) -> List[str]:\n",
    "    result = tf.py_function(func=load_data,\n",
    "                            inp=[path],\n",
    "                            Tout=(tf.float32, tf.int64))\n",
    "    return(result)"
   ]
  },
  {
   "cell_type": "markdown",
   "id": "c40a7eb4-0c3e-4eab-9291-5611cb68ce08",
   "metadata": {
    "tags": []
   },
   "source": [
    "# 2. Create Data Pipeline"
   ]
  },
  {
   "cell_type": "code",
   "execution_count": 19,
   "id": "f066fea2-91b1-42ed-a67d-00566a1a53ff",
   "metadata": {
    "tags": []
   },
   "outputs": [],
   "source": [
    "data = tf.data.Dataset.list_files('./data/s1/*.mpg')     # Prepare dataset (list of video files to process)\n",
    "data = data.shuffle(500, reshuffle_each_iteration=False) # Shuffle them\n",
    "data = data.map(mappable_function)    # Apply the 'load_data' function to actually get the frame and alignment data from each path \n",
    "\n",
    "data = data.padded_batch(\n",
    "    batch_size=2,                                # Each batch has 2 videos-alignment pairs\n",
    "    padded_shapes=([75,None,None,None],[40]))    # Pad to 75 frames, do not pad video dimensions or color values. Pad alignments to 40 tokens\n",
    "\n",
    "data = data.prefetch(tf.data.AUTOTUNE) # Optimize pipeline by preloading as the ML model is still training"
   ]
  },
  {
   "cell_type": "code",
   "execution_count": 20,
   "id": "98182857",
   "metadata": {},
   "outputs": [
    {
     "name": "stdout",
     "output_type": "stream",
     "text": [
      "450 50\n"
     ]
    }
   ],
   "source": [
    "# Train/test split\n",
    "train = data.take(450)\n",
    "test  = data.skip(450)\n",
    "print(len(train), len(test))"
   ]
  },
  {
   "cell_type": "code",
   "execution_count": 21,
   "id": "5281bde8-fdc8-4da1-bd55-5a7929a9e80c",
   "metadata": {},
   "outputs": [],
   "source": [
    "# Load 2 videos and 2 alignments\n",
    "frames, alignments = data.as_numpy_iterator().next()"
   ]
  },
  {
   "cell_type": "code",
   "execution_count": 22,
   "id": "cbebe683-6afd-47fd-bba4-c83b4b13bb32",
   "metadata": {},
   "outputs": [
    {
     "name": "stdout",
     "output_type": "stream",
     "text": [
      "2\n"
     ]
    },
    {
     "data": {
      "text/plain": [
       "array([[ 2,  9, 14, 39,  2, 12, 21,  5, 39,  9, 14, 39, 26, 39, 26,  5,\n",
       "        18, 15, 39, 14, 15, 23,  0,  0,  0,  0,  0,  0,  0,  0,  0,  0,\n",
       "         0,  0,  0,  0,  0,  0,  0,  0],\n",
       "       [19,  5, 20, 39,  2, 12, 21,  5, 39,  2, 25, 39, 21, 39, 26,  5,\n",
       "        18, 15, 39, 14, 15, 23,  0,  0,  0,  0,  0,  0,  0,  0,  0,  0,\n",
       "         0,  0,  0,  0,  0,  0,  0,  0]], dtype=int64)"
      ]
     },
     "execution_count": 22,
     "metadata": {},
     "output_type": "execute_result"
    }
   ],
   "source": [
    "print(len(frames)) # Note how there's 2 videos\n",
    "alignments         # Note how there are 2 alignments and they're padded with 0s"
   ]
  },
  {
   "cell_type": "code",
   "execution_count": 23,
   "id": "5cf2d676-93a9-434c-b3c7-bdcc2577b2e7",
   "metadata": {
    "tags": []
   },
   "outputs": [],
   "source": [
    "sample = data.as_numpy_iterator()"
   ]
  },
  {
   "cell_type": "code",
   "execution_count": 24,
   "id": "efa6cd46-7079-46c0-b45b-832f339f6cb0",
   "metadata": {
    "scrolled": true,
    "tags": []
   },
   "outputs": [
    {
     "data": {
      "text/plain": [
       "array([[[[[1.452581  ],\n",
       "          [1.452581  ],\n",
       "          [1.452581  ],\n",
       "          ...,\n",
       "          [0.223474  ],\n",
       "          [0.18622833],\n",
       "          [0.18622833]],\n",
       "\n",
       "         [[1.452581  ],\n",
       "          [1.452581  ],\n",
       "          [1.452581  ],\n",
       "          ...,\n",
       "          [0.223474  ],\n",
       "          [0.18622833],\n",
       "          [0.18622833]],\n",
       "\n",
       "         [[1.4153353 ],\n",
       "          [1.4153353 ],\n",
       "          [1.4153353 ],\n",
       "          ...,\n",
       "          [0.26071966],\n",
       "          [0.29796535],\n",
       "          [0.29796535]],\n",
       "\n",
       "         ...,\n",
       "\n",
       "         [[1.0428786 ],\n",
       "          [1.0428786 ],\n",
       "          [1.0428786 ],\n",
       "          ...,\n",
       "          [0.03724567],\n",
       "          [0.        ],\n",
       "          [0.        ]],\n",
       "\n",
       "         [[1.005633  ],\n",
       "          [1.005633  ],\n",
       "          [1.005633  ],\n",
       "          ...,\n",
       "          [0.        ],\n",
       "          [9.497645  ],\n",
       "          [9.497645  ]],\n",
       "\n",
       "         [[1.005633  ],\n",
       "          [1.005633  ],\n",
       "          [1.005633  ],\n",
       "          ...,\n",
       "          [0.        ],\n",
       "          [9.497645  ],\n",
       "          [9.497645  ]]],\n",
       "\n",
       "\n",
       "        [[[1.4898267 ],\n",
       "          [1.4898267 ],\n",
       "          [1.5270723 ],\n",
       "          ...,\n",
       "          [0.29796535],\n",
       "          [0.29796535],\n",
       "          [0.29796535]],\n",
       "\n",
       "         [[1.4898267 ],\n",
       "          [1.4898267 ],\n",
       "          [1.5270723 ],\n",
       "          ...,\n",
       "          [0.29796535],\n",
       "          [0.29796535],\n",
       "          [0.29796535]],\n",
       "\n",
       "         [[1.452581  ],\n",
       "          [1.452581  ],\n",
       "          [1.4153353 ],\n",
       "          ...,\n",
       "          [0.335211  ],\n",
       "          [0.335211  ],\n",
       "          [0.335211  ]],\n",
       "\n",
       "         ...,\n",
       "\n",
       "         [[1.0428786 ],\n",
       "          [1.0428786 ],\n",
       "          [1.005633  ],\n",
       "          ...,\n",
       "          [0.        ],\n",
       "          [0.        ],\n",
       "          [0.        ]],\n",
       "\n",
       "         [[1.005633  ],\n",
       "          [1.005633  ],\n",
       "          [0.96838737],\n",
       "          ...,\n",
       "          [0.        ],\n",
       "          [9.497645  ],\n",
       "          [9.497645  ]],\n",
       "\n",
       "         [[1.005633  ],\n",
       "          [1.005633  ],\n",
       "          [0.96838737],\n",
       "          ...,\n",
       "          [0.        ],\n",
       "          [9.497645  ],\n",
       "          [9.497645  ]]],\n",
       "\n",
       "\n",
       "        [[[1.4898267 ],\n",
       "          [1.4898267 ],\n",
       "          [1.5643181 ],\n",
       "          ...,\n",
       "          [0.37245667],\n",
       "          [0.29796535],\n",
       "          [0.29796535]],\n",
       "\n",
       "         [[1.4898267 ],\n",
       "          [1.4898267 ],\n",
       "          [1.5643181 ],\n",
       "          ...,\n",
       "          [0.37245667],\n",
       "          [0.29796535],\n",
       "          [0.29796535]],\n",
       "\n",
       "         [[1.4153353 ],\n",
       "          [1.4153353 ],\n",
       "          [1.4153353 ],\n",
       "          ...,\n",
       "          [0.335211  ],\n",
       "          [0.335211  ],\n",
       "          [0.335211  ]],\n",
       "\n",
       "         ...,\n",
       "\n",
       "         [[1.0428786 ],\n",
       "          [1.0428786 ],\n",
       "          [1.005633  ],\n",
       "          ...,\n",
       "          [0.03724567],\n",
       "          [0.03724567],\n",
       "          [0.03724567]],\n",
       "\n",
       "         [[1.005633  ],\n",
       "          [1.005633  ],\n",
       "          [0.96838737],\n",
       "          ...,\n",
       "          [0.        ],\n",
       "          [9.497645  ],\n",
       "          [9.497645  ]],\n",
       "\n",
       "         [[1.005633  ],\n",
       "          [1.005633  ],\n",
       "          [0.96838737],\n",
       "          ...,\n",
       "          [0.        ],\n",
       "          [9.497645  ],\n",
       "          [9.497645  ]]],\n",
       "\n",
       "\n",
       "        ...,\n",
       "\n",
       "\n",
       "        [[[1.4153353 ],\n",
       "          [1.4153353 ],\n",
       "          [1.4153353 ],\n",
       "          ...,\n",
       "          [0.26071966],\n",
       "          [0.26071966],\n",
       "          [0.26071966]],\n",
       "\n",
       "         [[1.4153353 ],\n",
       "          [1.4153353 ],\n",
       "          [1.4153353 ],\n",
       "          ...,\n",
       "          [0.26071966],\n",
       "          [0.26071966],\n",
       "          [0.26071966]],\n",
       "\n",
       "         [[1.452581  ],\n",
       "          [1.452581  ],\n",
       "          [1.340844  ],\n",
       "          ...,\n",
       "          [0.335211  ],\n",
       "          [0.335211  ],\n",
       "          [0.335211  ]],\n",
       "\n",
       "         ...,\n",
       "\n",
       "         [[1.005633  ],\n",
       "          [0.96838737],\n",
       "          [0.96838737],\n",
       "          ...,\n",
       "          [0.        ],\n",
       "          [9.497645  ],\n",
       "          [9.4604    ]],\n",
       "\n",
       "         [[0.96838737],\n",
       "          [0.96838737],\n",
       "          [0.96838737],\n",
       "          ...,\n",
       "          [9.497645  ],\n",
       "          [9.4604    ],\n",
       "          [9.4604    ]],\n",
       "\n",
       "         [[0.96838737],\n",
       "          [0.96838737],\n",
       "          [0.96838737],\n",
       "          ...,\n",
       "          [9.497645  ],\n",
       "          [9.4604    ],\n",
       "          [9.385908  ]]],\n",
       "\n",
       "\n",
       "        [[[1.3780897 ],\n",
       "          [1.3780897 ],\n",
       "          [1.4153353 ],\n",
       "          ...,\n",
       "          [0.26071966],\n",
       "          [0.29796535],\n",
       "          [0.29796535]],\n",
       "\n",
       "         [[1.3780897 ],\n",
       "          [1.3780897 ],\n",
       "          [1.4153353 ],\n",
       "          ...,\n",
       "          [0.26071966],\n",
       "          [0.29796535],\n",
       "          [0.29796535]],\n",
       "\n",
       "         [[1.4898267 ],\n",
       "          [1.4898267 ],\n",
       "          [1.3780897 ],\n",
       "          ...,\n",
       "          [0.29796535],\n",
       "          [0.29796535],\n",
       "          [0.29796535]],\n",
       "\n",
       "         ...,\n",
       "\n",
       "         [[1.005633  ],\n",
       "          [0.96838737],\n",
       "          [0.96838737],\n",
       "          ...,\n",
       "          [0.        ],\n",
       "          [9.497645  ],\n",
       "          [9.4604    ]],\n",
       "\n",
       "         [[0.96838737],\n",
       "          [0.96838737],\n",
       "          [0.96838737],\n",
       "          ...,\n",
       "          [0.        ],\n",
       "          [9.4604    ],\n",
       "          [9.4604    ]],\n",
       "\n",
       "         [[0.96838737],\n",
       "          [0.96838737],\n",
       "          [0.96838737],\n",
       "          ...,\n",
       "          [9.497645  ],\n",
       "          [9.4604    ],\n",
       "          [9.385908  ]]],\n",
       "\n",
       "\n",
       "        [[[1.4153353 ],\n",
       "          [1.4153353 ],\n",
       "          [1.4153353 ],\n",
       "          ...,\n",
       "          [0.18622833],\n",
       "          [0.223474  ],\n",
       "          [0.223474  ]],\n",
       "\n",
       "         [[1.4153353 ],\n",
       "          [1.4153353 ],\n",
       "          [1.4153353 ],\n",
       "          ...,\n",
       "          [0.18622833],\n",
       "          [0.223474  ],\n",
       "          [0.223474  ]],\n",
       "\n",
       "         [[1.4898267 ],\n",
       "          [1.4153353 ],\n",
       "          [1.3780897 ],\n",
       "          ...,\n",
       "          [0.29796535],\n",
       "          [0.29796535],\n",
       "          [0.29796535]],\n",
       "\n",
       "         ...,\n",
       "\n",
       "         [[1.005633  ],\n",
       "          [1.005633  ],\n",
       "          [0.96838737],\n",
       "          ...,\n",
       "          [0.03724567],\n",
       "          [9.4604    ],\n",
       "          [9.4604    ]],\n",
       "\n",
       "         [[0.96838737],\n",
       "          [0.96838737],\n",
       "          [0.96838737],\n",
       "          ...,\n",
       "          [9.497645  ],\n",
       "          [9.4604    ],\n",
       "          [9.385908  ]],\n",
       "\n",
       "         [[0.9311417 ],\n",
       "          [0.9311417 ],\n",
       "          [0.96838737],\n",
       "          ...,\n",
       "          [9.497645  ],\n",
       "          [9.385908  ],\n",
       "          [9.385908  ]]]],\n",
       "\n",
       "\n",
       "\n",
       "       [[[[1.3429697 ],\n",
       "          [1.4843348 ],\n",
       "          [1.5196762 ],\n",
       "          ...,\n",
       "          [0.38875437],\n",
       "          [0.38875437],\n",
       "          [0.38875437]],\n",
       "\n",
       "         [[1.272287  ],\n",
       "          [1.4843348 ],\n",
       "          [1.5903589 ],\n",
       "          ...,\n",
       "          [0.38875437],\n",
       "          [0.38875437],\n",
       "          [0.38875437]],\n",
       "\n",
       "         [[1.4843348 ],\n",
       "          [1.4843348 ],\n",
       "          [1.4136523 ],\n",
       "          ...,\n",
       "          [0.35341308],\n",
       "          [0.35341308],\n",
       "          [0.35341308]],\n",
       "\n",
       "         ...,\n",
       "\n",
       "         [[0.9895566 ],\n",
       "          [0.9895566 ],\n",
       "          [0.9895566 ],\n",
       "          ...,\n",
       "          [0.10602392],\n",
       "          [0.07068262],\n",
       "          [0.03534131]],\n",
       "\n",
       "         [[0.9895566 ],\n",
       "          [0.9895566 ],\n",
       "          [0.9895566 ],\n",
       "          ...,\n",
       "          [0.10602392],\n",
       "          [0.03534131],\n",
       "          [0.03534131]],\n",
       "\n",
       "         [[0.9895566 ],\n",
       "          [0.9895566 ],\n",
       "          [0.9895566 ],\n",
       "          ...,\n",
       "          [0.07068262],\n",
       "          [0.03534131],\n",
       "          [0.        ]]],\n",
       "\n",
       "\n",
       "        [[[1.4489936 ],\n",
       "          [1.4489936 ],\n",
       "          [1.5196762 ],\n",
       "          ...,\n",
       "          [0.38875437],\n",
       "          [0.35341308],\n",
       "          [0.35341308]],\n",
       "\n",
       "         [[1.4136523 ],\n",
       "          [1.5196762 ],\n",
       "          [1.5903589 ],\n",
       "          ...,\n",
       "          [0.38875437],\n",
       "          [0.35341308],\n",
       "          [0.35341308]],\n",
       "\n",
       "         [[1.4843348 ],\n",
       "          [1.4843348 ],\n",
       "          [1.4843348 ],\n",
       "          ...,\n",
       "          [0.35341308],\n",
       "          [0.35341308],\n",
       "          [0.35341308]],\n",
       "\n",
       "         ...,\n",
       "\n",
       "         [[1.0248979 ],\n",
       "          [1.0248979 ],\n",
       "          [1.0248979 ],\n",
       "          ...,\n",
       "          [0.10602392],\n",
       "          [0.07068262],\n",
       "          [0.07068262]],\n",
       "\n",
       "         [[1.0248979 ],\n",
       "          [1.0248979 ],\n",
       "          [0.9895566 ],\n",
       "          ...,\n",
       "          [0.07068262],\n",
       "          [0.07068262],\n",
       "          [0.03534131]],\n",
       "\n",
       "         [[0.9895566 ],\n",
       "          [0.9895566 ],\n",
       "          [0.9895566 ],\n",
       "          ...,\n",
       "          [0.10602392],\n",
       "          [0.03534131],\n",
       "          [0.03534131]]],\n",
       "\n",
       "\n",
       "        [[[1.4136523 ],\n",
       "          [1.4136523 ],\n",
       "          [1.4489936 ],\n",
       "          ...,\n",
       "          [0.45943698],\n",
       "          [0.38875437],\n",
       "          [0.38875437]],\n",
       "\n",
       "         [[1.3429697 ],\n",
       "          [1.4136523 ],\n",
       "          [1.4843348 ],\n",
       "          ...,\n",
       "          [0.45943698],\n",
       "          [0.38875437],\n",
       "          [0.38875437]],\n",
       "\n",
       "         [[1.4843348 ],\n",
       "          [1.4843348 ],\n",
       "          [1.4489936 ],\n",
       "          ...,\n",
       "          [0.35341308],\n",
       "          [0.35341308],\n",
       "          [0.35341308]],\n",
       "\n",
       "         ...,\n",
       "\n",
       "         [[1.0248979 ],\n",
       "          [1.0248979 ],\n",
       "          [1.0248979 ],\n",
       "          ...,\n",
       "          [0.14136523],\n",
       "          [0.10602392],\n",
       "          [0.07068262]],\n",
       "\n",
       "         [[1.0248979 ],\n",
       "          [1.0248979 ],\n",
       "          [0.9895566 ],\n",
       "          ...,\n",
       "          [0.10602392],\n",
       "          [0.07068262],\n",
       "          [0.03534131]],\n",
       "\n",
       "         [[0.9895566 ],\n",
       "          [0.9895566 ],\n",
       "          [0.9895566 ],\n",
       "          ...,\n",
       "          [0.07068262],\n",
       "          [0.03534131],\n",
       "          [0.03534131]]],\n",
       "\n",
       "\n",
       "        ...,\n",
       "\n",
       "\n",
       "        [[[1.4489936 ],\n",
       "          [1.4843348 ],\n",
       "          [1.4843348 ],\n",
       "          ...,\n",
       "          [0.35341308],\n",
       "          [0.4240957 ],\n",
       "          [0.4240957 ]],\n",
       "\n",
       "         [[1.3783109 ],\n",
       "          [1.4843348 ],\n",
       "          [1.4843348 ],\n",
       "          ...,\n",
       "          [0.35341308],\n",
       "          [0.4240957 ],\n",
       "          [0.4240957 ]],\n",
       "\n",
       "         [[1.4843348 ],\n",
       "          [1.4136523 ],\n",
       "          [1.4136523 ],\n",
       "          ...,\n",
       "          [0.38875437],\n",
       "          [0.38875437],\n",
       "          [0.38875437]],\n",
       "\n",
       "         ...,\n",
       "\n",
       "         [[1.0955805 ],\n",
       "          [1.0602392 ],\n",
       "          [1.0248979 ],\n",
       "          ...,\n",
       "          [0.10602392],\n",
       "          [0.10602392],\n",
       "          [0.10602392]],\n",
       "\n",
       "         [[1.0955805 ],\n",
       "          [1.0602392 ],\n",
       "          [1.0248979 ],\n",
       "          ...,\n",
       "          [0.10602392],\n",
       "          [0.10602392],\n",
       "          [0.07068262]],\n",
       "\n",
       "         [[1.0955805 ],\n",
       "          [1.0602392 ],\n",
       "          [1.0248979 ],\n",
       "          ...,\n",
       "          [0.10602392],\n",
       "          [0.07068262],\n",
       "          [0.07068262]]],\n",
       "\n",
       "\n",
       "        [[[1.5196762 ],\n",
       "          [1.5550175 ],\n",
       "          [1.4843348 ],\n",
       "          ...,\n",
       "          [0.35341308],\n",
       "          [0.38875437],\n",
       "          [0.38875437]],\n",
       "\n",
       "         [[1.5196762 ],\n",
       "          [1.5196762 ],\n",
       "          [1.4489936 ],\n",
       "          ...,\n",
       "          [0.35341308],\n",
       "          [0.38875437],\n",
       "          [0.38875437]],\n",
       "\n",
       "         [[1.4843348 ],\n",
       "          [1.4136523 ],\n",
       "          [1.3783109 ],\n",
       "          ...,\n",
       "          [0.38875437],\n",
       "          [0.38875437],\n",
       "          [0.38875437]],\n",
       "\n",
       "         ...,\n",
       "\n",
       "         [[1.2016044 ],\n",
       "          [1.0955805 ],\n",
       "          [1.0602392 ],\n",
       "          ...,\n",
       "          [0.10602392],\n",
       "          [0.10602392],\n",
       "          [0.07068262]],\n",
       "\n",
       "         [[1.1309218 ],\n",
       "          [1.0955805 ],\n",
       "          [1.0602392 ],\n",
       "          ...,\n",
       "          [0.10602392],\n",
       "          [0.07068262],\n",
       "          [0.07068262]],\n",
       "\n",
       "         [[1.1309218 ],\n",
       "          [1.0955805 ],\n",
       "          [1.0602392 ],\n",
       "          ...,\n",
       "          [0.07068262],\n",
       "          [0.07068262],\n",
       "          [0.07068262]]],\n",
       "\n",
       "\n",
       "        [[[1.5196762 ],\n",
       "          [1.5550175 ],\n",
       "          [1.4489936 ],\n",
       "          ...,\n",
       "          [0.38875437],\n",
       "          [0.35341308],\n",
       "          [0.35341308]],\n",
       "\n",
       "         [[1.5550175 ],\n",
       "          [1.5196762 ],\n",
       "          [1.4136523 ],\n",
       "          ...,\n",
       "          [0.38875437],\n",
       "          [0.35341308],\n",
       "          [0.35341308]],\n",
       "\n",
       "         [[1.4843348 ],\n",
       "          [1.4136523 ],\n",
       "          [1.4489936 ],\n",
       "          ...,\n",
       "          [0.38875437],\n",
       "          [0.38875437],\n",
       "          [0.38875437]],\n",
       "\n",
       "         ...,\n",
       "\n",
       "         [[1.1309218 ],\n",
       "          [1.0955805 ],\n",
       "          [1.0602392 ],\n",
       "          ...,\n",
       "          [0.10602392],\n",
       "          [0.10602392],\n",
       "          [0.07068262]],\n",
       "\n",
       "         [[1.1309218 ],\n",
       "          [1.0955805 ],\n",
       "          [1.0602392 ],\n",
       "          ...,\n",
       "          [0.10602392],\n",
       "          [0.07068262],\n",
       "          [0.07068262]],\n",
       "\n",
       "         [[1.1309218 ],\n",
       "          [1.0955805 ],\n",
       "          [1.0248979 ],\n",
       "          ...,\n",
       "          [0.07068262],\n",
       "          [0.07068262],\n",
       "          [0.07068262]]]]], dtype=float32)"
      ]
     },
     "execution_count": 24,
     "metadata": {},
     "output_type": "execute_result"
    }
   ],
   "source": [
    "val = sample.next()\n",
    "val[0]"
   ]
  },
  {
   "cell_type": "code",
   "execution_count": 25,
   "id": "acf5eb4f-a0da-4a9a-bf24-af13e9cc2fbe",
   "metadata": {
    "tags": []
   },
   "outputs": [
    {
     "name": "stderr",
     "output_type": "stream",
     "text": [
      "Lossy conversion from float32 to uint8. Range [0.0, 9.497645378112793]. Convert image to uint8 prior to saving to suppress this warning.\n",
      "Lossy conversion from float32 to uint8. Range [0.0, 9.497645378112793]. Convert image to uint8 prior to saving to suppress this warning.\n",
      "Lossy conversion from float32 to uint8. Range [0.0, 9.497645378112793]. Convert image to uint8 prior to saving to suppress this warning.\n",
      "Lossy conversion from float32 to uint8. Range [0.0, 9.497645378112793]. Convert image to uint8 prior to saving to suppress this warning.\n",
      "Lossy conversion from float32 to uint8. Range [0.0, 9.497645378112793]. Convert image to uint8 prior to saving to suppress this warning.\n",
      "Lossy conversion from float32 to uint8. Range [0.0, 9.497645378112793]. Convert image to uint8 prior to saving to suppress this warning.\n",
      "Lossy conversion from float32 to uint8. Range [0.0, 9.497645378112793]. Convert image to uint8 prior to saving to suppress this warning.\n",
      "Lossy conversion from float32 to uint8. Range [0.0, 9.497645378112793]. Convert image to uint8 prior to saving to suppress this warning.\n",
      "Lossy conversion from float32 to uint8. Range [0.0, 9.497645378112793]. Convert image to uint8 prior to saving to suppress this warning.\n",
      "Lossy conversion from float32 to uint8. Range [0.0, 9.497645378112793]. Convert image to uint8 prior to saving to suppress this warning.\n",
      "Lossy conversion from float32 to uint8. Range [0.0, 9.497645378112793]. Convert image to uint8 prior to saving to suppress this warning.\n",
      "Lossy conversion from float32 to uint8. Range [0.0, 9.497645378112793]. Convert image to uint8 prior to saving to suppress this warning.\n",
      "Lossy conversion from float32 to uint8. Range [0.0, 9.497645378112793]. Convert image to uint8 prior to saving to suppress this warning.\n",
      "Lossy conversion from float32 to uint8. Range [0.0, 9.497645378112793]. Convert image to uint8 prior to saving to suppress this warning.\n",
      "Lossy conversion from float32 to uint8. Range [0.0, 9.497645378112793]. Convert image to uint8 prior to saving to suppress this warning.\n",
      "Lossy conversion from float32 to uint8. Range [0.0, 9.497645378112793]. Convert image to uint8 prior to saving to suppress this warning.\n",
      "Lossy conversion from float32 to uint8. Range [0.0, 9.497645378112793]. Convert image to uint8 prior to saving to suppress this warning.\n",
      "Lossy conversion from float32 to uint8. Range [0.0, 9.497645378112793]. Convert image to uint8 prior to saving to suppress this warning.\n",
      "Lossy conversion from float32 to uint8. Range [0.0, 9.497645378112793]. Convert image to uint8 prior to saving to suppress this warning.\n",
      "Lossy conversion from float32 to uint8. Range [0.0, 9.497645378112793]. Convert image to uint8 prior to saving to suppress this warning.\n",
      "Lossy conversion from float32 to uint8. Range [0.0, 9.497645378112793]. Convert image to uint8 prior to saving to suppress this warning.\n",
      "Lossy conversion from float32 to uint8. Range [0.0, 9.497645378112793]. Convert image to uint8 prior to saving to suppress this warning.\n",
      "Lossy conversion from float32 to uint8. Range [0.0, 9.497645378112793]. Convert image to uint8 prior to saving to suppress this warning.\n",
      "Lossy conversion from float32 to uint8. Range [0.0, 9.497645378112793]. Convert image to uint8 prior to saving to suppress this warning.\n",
      "Lossy conversion from float32 to uint8. Range [0.0, 9.497645378112793]. Convert image to uint8 prior to saving to suppress this warning.\n",
      "Lossy conversion from float32 to uint8. Range [0.0, 9.497645378112793]. Convert image to uint8 prior to saving to suppress this warning.\n",
      "Lossy conversion from float32 to uint8. Range [0.0, 9.497645378112793]. Convert image to uint8 prior to saving to suppress this warning.\n",
      "Lossy conversion from float32 to uint8. Range [0.0, 9.497645378112793]. Convert image to uint8 prior to saving to suppress this warning.\n",
      "Lossy conversion from float32 to uint8. Range [0.0, 9.497645378112793]. Convert image to uint8 prior to saving to suppress this warning.\n",
      "Lossy conversion from float32 to uint8. Range [0.0, 9.497645378112793]. Convert image to uint8 prior to saving to suppress this warning.\n",
      "Lossy conversion from float32 to uint8. Range [0.0, 9.497645378112793]. Convert image to uint8 prior to saving to suppress this warning.\n",
      "Lossy conversion from float32 to uint8. Range [0.0, 9.497645378112793]. Convert image to uint8 prior to saving to suppress this warning.\n",
      "Lossy conversion from float32 to uint8. Range [0.0, 9.497645378112793]. Convert image to uint8 prior to saving to suppress this warning.\n",
      "Lossy conversion from float32 to uint8. Range [0.0, 9.497645378112793]. Convert image to uint8 prior to saving to suppress this warning.\n",
      "Lossy conversion from float32 to uint8. Range [0.0, 9.497645378112793]. Convert image to uint8 prior to saving to suppress this warning.\n",
      "Lossy conversion from float32 to uint8. Range [0.0, 9.497645378112793]. Convert image to uint8 prior to saving to suppress this warning.\n",
      "Lossy conversion from float32 to uint8. Range [0.0, 9.497645378112793]. Convert image to uint8 prior to saving to suppress this warning.\n",
      "Lossy conversion from float32 to uint8. Range [0.0, 9.497645378112793]. Convert image to uint8 prior to saving to suppress this warning.\n",
      "Lossy conversion from float32 to uint8. Range [0.0, 9.497645378112793]. Convert image to uint8 prior to saving to suppress this warning.\n",
      "Lossy conversion from float32 to uint8. Range [0.0, 9.497645378112793]. Convert image to uint8 prior to saving to suppress this warning.\n",
      "Lossy conversion from float32 to uint8. Range [0.0, 9.497645378112793]. Convert image to uint8 prior to saving to suppress this warning.\n",
      "Lossy conversion from float32 to uint8. Range [0.0, 9.497645378112793]. Convert image to uint8 prior to saving to suppress this warning.\n",
      "Lossy conversion from float32 to uint8. Range [0.0, 9.497645378112793]. Convert image to uint8 prior to saving to suppress this warning.\n",
      "Lossy conversion from float32 to uint8. Range [0.0, 9.497645378112793]. Convert image to uint8 prior to saving to suppress this warning.\n",
      "Lossy conversion from float32 to uint8. Range [0.0, 9.497645378112793]. Convert image to uint8 prior to saving to suppress this warning.\n",
      "Lossy conversion from float32 to uint8. Range [0.0, 9.497645378112793]. Convert image to uint8 prior to saving to suppress this warning.\n",
      "Lossy conversion from float32 to uint8. Range [0.0, 9.497645378112793]. Convert image to uint8 prior to saving to suppress this warning.\n",
      "Lossy conversion from float32 to uint8. Range [0.0, 9.497645378112793]. Convert image to uint8 prior to saving to suppress this warning.\n",
      "Lossy conversion from float32 to uint8. Range [0.0, 9.497645378112793]. Convert image to uint8 prior to saving to suppress this warning.\n",
      "Lossy conversion from float32 to uint8. Range [0.0, 9.497645378112793]. Convert image to uint8 prior to saving to suppress this warning.\n",
      "Lossy conversion from float32 to uint8. Range [0.0, 9.497645378112793]. Convert image to uint8 prior to saving to suppress this warning.\n",
      "Lossy conversion from float32 to uint8. Range [0.0, 9.497645378112793]. Convert image to uint8 prior to saving to suppress this warning.\n",
      "Lossy conversion from float32 to uint8. Range [0.0, 9.497645378112793]. Convert image to uint8 prior to saving to suppress this warning.\n",
      "Lossy conversion from float32 to uint8. Range [0.0, 9.497645378112793]. Convert image to uint8 prior to saving to suppress this warning.\n",
      "Lossy conversion from float32 to uint8. Range [0.0, 9.497645378112793]. Convert image to uint8 prior to saving to suppress this warning.\n",
      "Lossy conversion from float32 to uint8. Range [0.0, 9.497645378112793]. Convert image to uint8 prior to saving to suppress this warning.\n",
      "Lossy conversion from float32 to uint8. Range [0.0, 9.497645378112793]. Convert image to uint8 prior to saving to suppress this warning.\n",
      "Lossy conversion from float32 to uint8. Range [0.0, 9.497645378112793]. Convert image to uint8 prior to saving to suppress this warning.\n",
      "Lossy conversion from float32 to uint8. Range [0.0, 9.497645378112793]. Convert image to uint8 prior to saving to suppress this warning.\n",
      "Lossy conversion from float32 to uint8. Range [0.0, 9.497645378112793]. Convert image to uint8 prior to saving to suppress this warning.\n",
      "Lossy conversion from float32 to uint8. Range [0.0, 9.497645378112793]. Convert image to uint8 prior to saving to suppress this warning.\n",
      "Lossy conversion from float32 to uint8. Range [0.0, 9.497645378112793]. Convert image to uint8 prior to saving to suppress this warning.\n",
      "Lossy conversion from float32 to uint8. Range [0.0, 9.497645378112793]. Convert image to uint8 prior to saving to suppress this warning.\n",
      "Lossy conversion from float32 to uint8. Range [0.0, 9.497645378112793]. Convert image to uint8 prior to saving to suppress this warning.\n",
      "Lossy conversion from float32 to uint8. Range [0.0, 9.497645378112793]. Convert image to uint8 prior to saving to suppress this warning.\n",
      "Lossy conversion from float32 to uint8. Range [0.0, 9.497645378112793]. Convert image to uint8 prior to saving to suppress this warning.\n",
      "Lossy conversion from float32 to uint8. Range [0.0, 9.497645378112793]. Convert image to uint8 prior to saving to suppress this warning.\n",
      "Lossy conversion from float32 to uint8. Range [0.0, 9.497645378112793]. Convert image to uint8 prior to saving to suppress this warning.\n",
      "Lossy conversion from float32 to uint8. Range [0.0, 9.497645378112793]. Convert image to uint8 prior to saving to suppress this warning.\n",
      "Lossy conversion from float32 to uint8. Range [0.0, 9.497645378112793]. Convert image to uint8 prior to saving to suppress this warning.\n",
      "Lossy conversion from float32 to uint8. Range [0.0, 9.497645378112793]. Convert image to uint8 prior to saving to suppress this warning.\n",
      "Lossy conversion from float32 to uint8. Range [0.0, 9.497645378112793]. Convert image to uint8 prior to saving to suppress this warning.\n",
      "Lossy conversion from float32 to uint8. Range [0.0, 9.497645378112793]. Convert image to uint8 prior to saving to suppress this warning.\n",
      "Lossy conversion from float32 to uint8. Range [0.0, 9.497645378112793]. Convert image to uint8 prior to saving to suppress this warning.\n",
      "Lossy conversion from float32 to uint8. Range [0.0, 9.497645378112793]. Convert image to uint8 prior to saving to suppress this warning.\n"
     ]
    }
   ],
   "source": [
    "# Example: Convert numpy array to gif. Use the 1st video from the 1st batch\n",
    "imageio.mimsave('./animation.gif', val[0][0], fps=10)"
   ]
  },
  {
   "cell_type": "code",
   "execution_count": 26,
   "id": "c33a87a2-d5e0-4ec9-b174-73ebf41bf03a",
   "metadata": {
    "tags": []
   },
   "outputs": [
    {
     "data": {
      "text/plain": [
       "<matplotlib.image.AxesImage at 0x2c03dc6fbb0>"
      ]
     },
     "execution_count": 26,
     "metadata": {},
     "output_type": "execute_result"
    },
    {
     "data": {
      "image/png": "[encoded data removed]",
      "text/plain": [
       "<Figure size 640x480 with 1 Axes>"
      ]
     },
     "metadata": {},
     "output_type": "display_data"
    }
   ],
   "source": [
    "# Plot a single frame\n",
    "# 0:videos, 0: 1st video out of the batch,  35: frame number \n",
    "plt.imshow(val[0][0][35])"
   ]
  },
  {
   "cell_type": "code",
   "execution_count": 27,
   "id": "84593332-133c-4205-b7a6-8e235d5e2b3b",
   "metadata": {
    "tags": []
   },
   "outputs": [
    {
     "data": {
      "text/plain": [
       "<tf.Tensor: shape=(), dtype=string, numpy=b'lay blue sp at q five soon'>"
      ]
     },
     "execution_count": 27,
     "metadata": {},
     "output_type": "execute_result"
    }
   ],
   "source": [
    "# Revert the alignment to text (as a single string)\n",
    "tf.strings.reduce_join([num_to_char(word) for word in val[1][0]])"
   ]
  },
  {
   "cell_type": "markdown",
   "id": "0f47733c-83bc-465c-b118-b198b492ad37",
   "metadata": {
    "tags": []
   },
   "source": [
    "# 3. Design the Deep Neural Network"
   ]
  },
  {
   "cell_type": "code",
   "execution_count": 51,
   "id": "d8e9a497-191b-4842-afbd-26f5e13c43ba",
   "metadata": {
    "tags": []
   },
   "outputs": [],
   "source": [
    "from tensorflow.keras.models import Sequential \n",
    "\n",
    "from tensorflow.keras.layers import Conv3D  # 3D convolution layer. Very good for videos\n",
    "from tensorflow.keras.layers import LSTM    # Long Short-Term Memory layer. Checks HW and chooses adequate implementation to maximize performance\n",
    "from tensorflow.keras.layers import Dense, Dropout, Bidirectional, MaxPool3D, Activation, TimeDistributed, Flatten\n",
    "\n",
    "from tensorflow.keras.optimizers.legacy import Adam\n",
    "\n",
    "from tensorflow.keras.callbacks import ModelCheckpoint          # To save copies of the model after every N epochs\n",
    "from tensorflow.keras.callbacks import LearningRateScheduler    # To start out fast and slow down as we get to our optimization point (min value of loss we could potentially get to)"
   ]
  },
  {
   "cell_type": "code",
   "execution_count": 52,
   "id": "3f753ed2-70b9-4236-8c1c-08ca065dc8bf",
   "metadata": {},
   "outputs": [
    {
     "data": {
      "text/plain": [
       "(75, 46, 140, 1)"
      ]
     },
     "execution_count": 52,
     "metadata": {},
     "output_type": "execute_result"
    }
   ],
   "source": [
    "# Get the input shape we'll use as input_shape in the first Conv3D in the next cell\n",
    "data.as_numpy_iterator().next()[0][0].shape"
   ]
  },
  {
   "cell_type": "code",
   "execution_count": 53,
   "id": "f9171056-a352-491a-9ed9-92b28ced268e",
   "metadata": {
    "tags": []
   },
   "outputs": [],
   "source": [
    "model = Sequential()\n",
    "\n",
    "model.add(Conv3D(filters=128, kernel_size=3, input_shape=(75,46,140,1), padding='same'))\n",
    "model.add(Activation('relu')) # Rectified linear unit, i.e. max(0, x)\n",
    "model.add(MaxPool3D((1,2,2))) # Take max value inside a 1x2x2 rolling container and condense into a single pixel\n",
    "\n",
    "model.add(Conv3D(256, 3, padding='same'))\n",
    "model.add(Activation('relu'))\n",
    "model.add(MaxPool3D((1,2,2)))\n",
    "\n",
    "model.add(Conv3D(75, 3, padding='same'))\n",
    "model.add(Activation('relu'))\n",
    "model.add(MaxPool3D((1,2,2)))\n",
    "\n",
    "model.add(TimeDistributed(Flatten()))\n",
    "\n",
    "model.add(Bidirectional(LSTM(128, kernel_initializer='Orthogonal', return_sequences=True)))\n",
    "model.add(Dropout(.5))\n",
    "\n",
    "model.add(Bidirectional(LSTM(128, kernel_initializer='Orthogonal', return_sequences=True)))\n",
    "model.add(Dropout(.5))\n",
    "\n",
    "model.add(Dense(char_to_num.vocabulary_size()+1, kernel_initializer='he_normal', activation='softmax'))"
   ]
  },
  {
   "cell_type": "code",
   "execution_count": 31,
   "id": "78851825-2bcd-42a9-b7f2-28bb5a6bf43a",
   "metadata": {
    "collapsed": true,
    "jupyter": {
     "outputs_hidden": true
    },
    "tags": []
   },
   "outputs": [
    {
     "name": "stdout",
     "output_type": "stream",
     "text": [
      "Model: \"sequential\"\n",
      "_________________________________________________________________\n",
      " Layer (type)                Output Shape              Param #   \n",
      "=================================================================\n",
      " conv3d (Conv3D)             (None, 75, 46, 140, 128)  3584      \n",
      "                                                                 \n",
      " activation (Activation)     (None, 75, 46, 140, 128)  0         \n",
      "                                                                 \n",
      " max_pooling3d (MaxPooling3D  (None, 75, 23, 70, 128)  0         \n",
      " )                                                               \n",
      "                                                                 \n",
      " conv3d_1 (Conv3D)           (None, 75, 23, 70, 256)   884992    \n",
      "                                                                 \n",
      " activation_1 (Activation)   (None, 75, 23, 70, 256)   0         \n",
      "                                                                 \n",
      " max_pooling3d_1 (MaxPooling  (None, 75, 11, 35, 256)  0         \n",
      " 3D)                                                             \n",
      "                                                                 \n",
      " conv3d_2 (Conv3D)           (None, 75, 11, 35, 75)    518475    \n",
      "                                                                 \n",
      " activation_2 (Activation)   (None, 75, 11, 35, 75)    0         \n",
      "                                                                 \n",
      " max_pooling3d_2 (MaxPooling  (None, 75, 5, 17, 75)    0         \n",
      " 3D)                                                             \n",
      "                                                                 \n",
      " time_distributed (TimeDistr  (None, 75, 6375)         0         \n",
      " ibuted)                                                         \n",
      "                                                                 \n",
      " bidirectional (Bidirectiona  (None, 75, 256)          6660096   \n",
      " l)                                                              \n",
      "                                                                 \n",
      " dropout (Dropout)           (None, 75, 256)           0         \n",
      "                                                                 \n",
      " bidirectional_1 (Bidirectio  (None, 75, 256)          394240    \n",
      " nal)                                                            \n",
      "                                                                 \n",
      " dropout_1 (Dropout)         (None, 75, 256)           0         \n",
      "                                                                 \n",
      " dense (Dense)               (None, 75, 41)            10537     \n",
      "                                                                 \n",
      "=================================================================\n",
      "Total params: 8,471,924\n",
      "Trainable params: 8,471,924\n",
      "Non-trainable params: 0\n",
      "_________________________________________________________________\n"
     ]
    }
   ],
   "source": [
    "model.summary()"
   ]
  },
  {
   "cell_type": "code",
   "execution_count": 32,
   "id": "f4b4798c-a65a-4c47-9e2a-3b09dc98d320",
   "metadata": {},
   "outputs": [
    {
     "data": {
      "text/plain": [
       "6375"
      ]
     },
     "execution_count": 32,
     "metadata": {},
     "output_type": "execute_result"
    }
   ],
   "source": [
    "5*17*75"
   ]
  },
  {
   "cell_type": "code",
   "execution_count": 33,
   "id": "e5c2eae0-c359-41a4-97a0-75c44dccb7d1",
   "metadata": {
    "tags": []
   },
   "outputs": [
    {
     "name": "stdout",
     "output_type": "stream",
     "text": [
      "1/1 [==============================] - 8s 8s/step\n"
     ]
    }
   ],
   "source": [
    "yhat = model.predict(val[0])"
   ]
  },
  {
   "cell_type": "code",
   "execution_count": 34,
   "id": "ffdc7319-0d69-4f7e-a6d4-ce72deb81c0b",
   "metadata": {},
   "outputs": [
    {
     "data": {
      "text/plain": [
       "<tf.Tensor: shape=(), dtype=string, numpy=b'3                                                   '>"
      ]
     },
     "execution_count": 34,
     "metadata": {},
     "output_type": "execute_result"
    }
   ],
   "source": [
    "tf.strings.reduce_join([num_to_char(x) for x in tf.argmax(yhat[0],axis=1)])"
   ]
  },
  {
   "cell_type": "code",
   "execution_count": 35,
   "id": "6ed47531-8317-4255-9a12-b757642258e6",
   "metadata": {
    "tags": []
   },
   "outputs": [
    {
     "data": {
      "text/plain": [
       "<tf.Tensor: shape=(), dtype=string, numpy=b'3                                                   '>"
      ]
     },
     "execution_count": 35,
     "metadata": {},
     "output_type": "execute_result"
    }
   ],
   "source": [
    "tf.strings.reduce_join([num_to_char(tf.argmax(x)) for x in yhat[0]])"
   ]
  },
  {
   "attachments": {},
   "cell_type": "markdown",
   "id": "5acc13be",
   "metadata": {},
   "source": [
    "Doesn't look like anything useful but we should get better results after we train the model."
   ]
  },
  {
   "cell_type": "code",
   "execution_count": 36,
   "id": "7c37b9b9-5298-4038-9c33-5031d1b457f0",
   "metadata": {
    "tags": []
   },
   "outputs": [
    {
     "data": {
      "text/plain": [
       "(None, 75, 46, 140, 1)"
      ]
     },
     "execution_count": 36,
     "metadata": {},
     "output_type": "execute_result"
    }
   ],
   "source": [
    "model.input_shape"
   ]
  },
  {
   "cell_type": "code",
   "execution_count": 37,
   "id": "98b316a4-5322-4782-8e36-4b3c1a696d85",
   "metadata": {
    "tags": []
   },
   "outputs": [
    {
     "data": {
      "text/plain": [
       "(None, 75, 41)"
      ]
     },
     "execution_count": 37,
     "metadata": {},
     "output_type": "execute_result"
    }
   ],
   "source": [
    "model.output_shape"
   ]
  },
  {
   "cell_type": "markdown",
   "id": "2ec02176-5c26-46c3-aff7-8352e6563c7d",
   "metadata": {
    "tags": []
   },
   "source": [
    "# 4. Setup Training Options and Train"
   ]
  },
  {
   "cell_type": "code",
   "execution_count": 38,
   "id": "ab015fd0-7fb4-4d5d-9fa2-30a05dbd515a",
   "metadata": {
    "tags": []
   },
   "outputs": [],
   "source": [
    "def scheduler(epoch, lr):\n",
    "    if (epoch < 30):  return lr\n",
    "    else:             return lr * tf.math.exp(-0.1)"
   ]
  },
  {
   "cell_type": "code",
   "execution_count": 54,
   "id": "c564d5c9-db54-4e88-b311-9aeab7fb3e69",
   "metadata": {
    "tags": []
   },
   "outputs": [],
   "source": [
    "def CTCLoss(y_true, y_pred):\n",
    "    batch_len = tf.cast(tf.shape(y_true)[0], dtype=\"int64\")\n",
    "    input_length = tf.cast(tf.shape(y_pred)[1], dtype=\"int64\")\n",
    "    label_length = tf.cast(tf.shape(y_true)[1], dtype=\"int64\")\n",
    "\n",
    "    input_length = input_length * tf.ones(shape=(batch_len, 1), dtype=\"int64\")\n",
    "    label_length = label_length * tf.ones(shape=(batch_len, 1), dtype=\"int64\")\n",
    "\n",
    "    loss = tf.keras.backend.ctc_batch_cost(y_true, y_pred, input_length, label_length)\n",
    "    return loss"
   ]
  },
  {
   "cell_type": "code",
   "execution_count": 55,
   "id": "a26dc3fc-a19c-4378-bd8c-e2b597a1d15c",
   "metadata": {
    "tags": []
   },
   "outputs": [],
   "source": [
    "class ProduceExample(tf.keras.callbacks.Callback): \n",
    "    def __init__(self, dataset) -> None: \n",
    "        self.dataset = dataset.as_numpy_iterator()\n",
    "    \n",
    "    def on_epoch_end(self, epoch, logs=None) -> None:\n",
    "        data = self.dataset.next()\n",
    "        yhat = self.model.predict(data[0])\n",
    "        decoded = tf.keras.backend.ctc_decode(yhat, [75,75], greedy=False)[0][0].numpy()\n",
    "        for x in range(len(yhat)):           \n",
    "            print('Original:', tf.strings.reduce_join(num_to_char(data[1][x])).numpy().decode('utf-8'))\n",
    "            print('Prediction:', tf.strings.reduce_join(num_to_char(decoded[x])).numpy().decode('utf-8'))\n",
    "            print('~'*100)"
   ]
  },
  {
   "cell_type": "code",
   "execution_count": 56,
   "id": "04be90d8-2482-46f9-b513-d5f4f8001c7e",
   "metadata": {
    "tags": []
   },
   "outputs": [],
   "source": [
    "model.compile(optimizer=Adam(learning_rate=0.0001), loss=CTCLoss)"
   ]
  },
  {
   "cell_type": "code",
   "execution_count": 57,
   "id": "eab49367-3f1e-4464-ae76-dbd07549d97e",
   "metadata": {
    "tags": []
   },
   "outputs": [],
   "source": [
    "## Define callbacks\n",
    "checkpoint_callback = ModelCheckpoint(os.path.join('models','checkpoint'), monitor='loss', save_weights_only=True)\n",
    "\n",
    "schedule_callback = LearningRateScheduler(scheduler)\n",
    "\n",
    "example_callback = ProduceExample(test)"
   ]
  },
  {
   "cell_type": "code",
   "execution_count": 48,
   "id": "8ffba483-aa61-4bbe-a15f-a73e1ddf097c",
   "metadata": {
    "tags": []
   },
   "outputs": [
    {
     "name": "stdout",
     "output_type": "stream",
     "text": [
      "Epoch 1/100\n",
      " 13/450 [..............................] - ETA: 11:56:06 - loss: 144.9874"
     ]
    }
   ],
   "source": [
    "# Train model. This will take a long time, but will save each epoch in case the training is interrupted.\n",
    "# Note: we can skip the training and just download the trained model in the next section\n",
    "model.fit(train, validation_data=test, epochs=100, callbacks=[checkpoint_callback, schedule_callback, example_callback])\n",
    "\n",
    "winsound.Beep(frequency=3500, duration=200) # Play beep when we finish\n",
    "winsound.Beep(frequency=4500, duration=300)"
   ]
  },
  {
   "cell_type": "markdown",
   "id": "fa8ee94b-89f7-4733-8a0c-a86f86ff590a",
   "metadata": {
    "tags": []
   },
   "source": [
    "# 5. Make a Prediction "
   ]
  },
  {
   "attachments": {},
   "cell_type": "markdown",
   "id": "89598a7d",
   "metadata": {},
   "source": [
    "Training would take a very long time, so we'll download an already trained model"
   ]
  },
  {
   "cell_type": "code",
   "execution_count": null,
   "id": "01fa7204-ce0e-49a8-8dbd-14fe5dfead40",
   "metadata": {
    "tags": []
   },
   "outputs": [],
   "source": [
    "# Download trained model (after 96 checkpoints)\n",
    "url = 'https://drive.google.com/uc?id=1vWscXs4Vt0a_1IH1-ct2TCgXAZT-N3_Y'\n",
    "output = 'checkpoints.zip'\n",
    "gdown.download(url, output, quiet=False)\n",
    "gdown.extractall('checkpoints.zip', 'models')"
   ]
  },
  {
   "cell_type": "code",
   "execution_count": 58,
   "id": "247f664d-3c87-4e96-946e-930dad0e1c2c",
   "metadata": {
    "tags": []
   },
   "outputs": [
    {
     "data": {
      "text/plain": [
       "<tensorflow.python.checkpoint.checkpoint.CheckpointLoadStatus at 0x2c0400ba040>"
      ]
     },
     "execution_count": 58,
     "metadata": {},
     "output_type": "execute_result"
    }
   ],
   "source": [
    "model.load_weights('models/checkpoint')"
   ]
  },
  {
   "cell_type": "code",
   "execution_count": 59,
   "id": "7f8d689f-b7bb-443c-9b88-e40c1d800828",
   "metadata": {
    "tags": []
   },
   "outputs": [],
   "source": [
    "test_data = test.as_numpy_iterator()"
   ]
  },
  {
   "cell_type": "code",
   "execution_count": 60,
   "id": "38546dc2-bee9-4837-864b-8a884df40ad7",
   "metadata": {
    "tags": []
   },
   "outputs": [],
   "source": [
    "sample = test_data.next()"
   ]
  },
  {
   "cell_type": "code",
   "execution_count": 61,
   "id": "a43621f0-229d-4c0d-9554-9c3a3da9c61a",
   "metadata": {
    "tags": []
   },
   "outputs": [
    {
     "name": "stdout",
     "output_type": "stream",
     "text": [
      "1/1 [==============================] - 5s 5s/step\n"
     ]
    }
   ],
   "source": [
    "yhat = model.predict(sample[0])"
   ]
  },
  {
   "cell_type": "code",
   "execution_count": 62,
   "id": "ea462999-f87e-4a7e-a057-5be7b6d8f7d5",
   "metadata": {
    "tags": []
   },
   "outputs": [
    {
     "name": "stdout",
     "output_type": "stream",
     "text": [
      "~~~~~~~~~~~~~~~~~~~~~~~~~~~~~~~~~~~~~~~~~~~~~~~~~~~~~~~~~~~~~~~~~~~~~~~~~~~~~~~~~~~~~~~~~~~~~~~~~~~~ REAL TEXT\n"
     ]
    },
    {
     "data": {
      "text/plain": [
       "[<tf.Tensor: shape=(), dtype=string, numpy=b'place green with l zero now'>,\n",
       " <tf.Tensor: shape=(), dtype=string, numpy=b'bin red by t zero now'>]"
      ]
     },
     "execution_count": 62,
     "metadata": {},
     "output_type": "execute_result"
    }
   ],
   "source": [
    "print('~'*100, 'REAL TEXT')\n",
    "[tf.strings.reduce_join([num_to_char(word) for word in sentence]) for sentence in sample[1]]"
   ]
  },
  {
   "cell_type": "code",
   "execution_count": 63,
   "id": "82bd4c10-dd6e-411e-834b-2a3b43fd12c5",
   "metadata": {
    "tags": []
   },
   "outputs": [],
   "source": [
    "decoded = tf.keras.backend.ctc_decode(yhat, input_length=[75,75], greedy=True)[0][0].numpy()"
   ]
  },
  {
   "cell_type": "code",
   "execution_count": 64,
   "id": "5d68ac46-c90b-4eab-a709-f19aee569ff5",
   "metadata": {
    "tags": []
   },
   "outputs": [
    {
     "name": "stdout",
     "output_type": "stream",
     "text": [
      "~~~~~~~~~~~~~~~~~~~~~~~~~~~~~~~~~~~~~~~~~~~~~~~~~~~~~~~~~~~~~~~~~~~~~~~~~~~~~~~~~~~~~~~~~~~~~~~~~~~~ PREDICTIONS\n"
     ]
    },
    {
     "data": {
      "text/plain": [
       "[<tf.Tensor: shape=(), dtype=string, numpy=b'place green with zero now'>,\n",
       " <tf.Tensor: shape=(), dtype=string, numpy=b'bin red by t zero now'>]"
      ]
     },
     "execution_count": 64,
     "metadata": {},
     "output_type": "execute_result"
    }
   ],
   "source": [
    "print('~'*100, 'PREDICTIONS')\n",
    "[tf.strings.reduce_join([num_to_char(word) for word in sentence]) for sentence in decoded]"
   ]
  },
  {
   "cell_type": "markdown",
   "id": "64622f98-e99b-4fed-a2cc-f0da82eb5431",
   "metadata": {},
   "source": [
    "# Test on a Video"
   ]
  },
  {
   "cell_type": "code",
   "execution_count": 65,
   "id": "a8b0c4d0-2031-4331-b91d-d87b1ae6f6e2",
   "metadata": {},
   "outputs": [],
   "source": [
    "sample = load_data(tf.convert_to_tensor('.\\\\data\\\\s1\\\\bras9a.mpg'))"
   ]
  },
  {
   "cell_type": "code",
   "execution_count": 66,
   "id": "0cca60e4-47a9-4683-8a75-48f4684f723d",
   "metadata": {},
   "outputs": [
    {
     "name": "stdout",
     "output_type": "stream",
     "text": [
      "~~~~~~~~~~~~~~~~~~~~~~~~~~~~~~~~~~~~~~~~~~~~~~~~~~~~~~~~~~~~~~~~~~~~~~~~~~~~~~~~~~~~~~~~~~~~~~~~~~~~ REAL TEXT\n"
     ]
    },
    {
     "data": {
      "text/plain": [
       "[<tf.Tensor: shape=(), dtype=string, numpy=b'bin red at s nine again'>]"
      ]
     },
     "execution_count": 66,
     "metadata": {},
     "output_type": "execute_result"
    }
   ],
   "source": [
    "print('~'*100, 'REAL TEXT')\n",
    "[tf.strings.reduce_join([num_to_char(word) for word in sentence]) for sentence in [sample[1]]]"
   ]
  },
  {
   "cell_type": "code",
   "execution_count": 67,
   "id": "8cc5037c-1e32-435c-b0cc-01e1fb3b863c",
   "metadata": {},
   "outputs": [
    {
     "name": "stdout",
     "output_type": "stream",
     "text": [
      "1/1 [==============================] - 2s 2s/step\n"
     ]
    }
   ],
   "source": [
    "yhat = model.predict(tf.expand_dims(sample[0], axis=0))"
   ]
  },
  {
   "cell_type": "code",
   "execution_count": 68,
   "id": "22c4f77d-715d-409f-bc5e-3ebe48704e8f",
   "metadata": {},
   "outputs": [],
   "source": [
    "decoded = tf.keras.backend.ctc_decode(yhat, input_length=[75], greedy=True)[0][0].numpy()"
   ]
  },
  {
   "cell_type": "code",
   "execution_count": 69,
   "id": "e4d12ecc-b634-499e-a4bc-db9f010835fb",
   "metadata": {},
   "outputs": [
    {
     "name": "stdout",
     "output_type": "stream",
     "text": [
      "~~~~~~~~~~~~~~~~~~~~~~~~~~~~~~~~~~~~~~~~~~~~~~~~~~~~~~~~~~~~~~~~~~~~~~~~~~~~~~~~~~~~~~~~~~~~~~~~~~~~ PREDICTIONS\n"
     ]
    },
    {
     "data": {
      "text/plain": [
       "[<tf.Tensor: shape=(), dtype=string, numpy=b'bin red at s nine again'>]"
      ]
     },
     "execution_count": 69,
     "metadata": {},
     "output_type": "execute_result"
    }
   ],
   "source": [
    "print('~'*100, 'PREDICTIONS')\n",
    "[tf.strings.reduce_join([num_to_char(word) for word in sentence]) for sentence in decoded]"
   ]
  }
 ],
 "metadata": {
  "kernelspec": {
   "display_name": "venv",
   "language": "python",
   "name": "python3"
  },
  "language_info": {
   "codemirror_mode": {
    "name": "ipython",
    "version": 3
   },
   "file_extension": ".py",
   "mimetype": "text/x-python",
   "name": "python",
   "nbconvert_exporter": "python",
   "pygments_lexer": "ipython3",
   "version": "3.9.0"
  }
 },
 "nbformat": 4,
 "nbformat_minor": 5
}
